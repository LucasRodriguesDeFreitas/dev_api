{
 "cells": [
  {
   "cell_type": "code",
   "execution_count": null,
   "id": "b77849e9",
   "metadata": {},
   "outputs": [
    {
     "name": "stdout",
     "output_type": "stream",
     "text": [
      " * Serving Flask app \"__main__\" (lazy loading)\n",
      " * Environment: production\n",
      "\u001b[31m   WARNING: This is a development server. Do not use it in a production deployment.\u001b[0m\n",
      "\u001b[2m   Use a production WSGI server instead.\u001b[0m\n",
      " * Debug mode: off\n"
     ]
    },
    {
     "name": "stderr",
     "output_type": "stream",
     "text": [
      " * Running on http://127.0.0.1:5000/ (Press CTRL+C to quit)\n"
     ]
    }
   ],
   "source": [
    "from flask import Flask\n",
    "from flask_restful import Resource, Api\n",
    "\n",
    "\n",
    "app = Flask(__name__)\n",
    "api = Api(app)\n",
    "\n",
    "desenvolvedores = [\n",
    "    {\n",
    "        'id':0,\n",
    "        'nome':'Rafael',\n",
    "        'habilidades':['Python', 'Flask']\n",
    "    },\n",
    "    {\n",
    "        'id':1,\n",
    "        'nome':'Lucas',\n",
    "        'habilidades':['Python', 'SQL']\n",
    "    }\n",
    "]\n",
    "\n",
    "\n",
    "class Desenvolvedor(Resource):\n",
    "    def get(self, id):\n",
    "        try:\n",
    "            response = desenvolvedores[id]\n",
    "        except IndexError:\n",
    "            mensagem = 'Desenvolvedor de ID {} não existe'.format(id)\n",
    "            response = {'status':'erro', 'mensagem': mensagem}\n",
    "        except Exception:\n",
    "            mensagem = 'Erro desconhecido. Procure o administrador de API'\n",
    "            response = {'status':'erro', 'mensagem': mensagem}\n",
    "        return response\n",
    "    \n",
    "    def put(self):\n",
    "        dados = json.loads(request.data)\n",
    "        desenvolvedores[id] = dados\n",
    "        return dados\n",
    "    \n",
    "    def delete(self):\n",
    "        desenvolvedores.pop(id)\n",
    "        \n",
    "        return {'status':'sucesso','mensagem':'Regustro excluido'}\n",
    "    \n",
    "api.add_resource(Desenvolvedor, '/dev/<int:id>/')\n",
    "\n",
    "if __name__ == '__main__':\n",
    "    app.run()"
   ]
  },
  {
   "cell_type": "code",
   "execution_count": null,
   "id": "04bf91a3",
   "metadata": {},
   "outputs": [],
   "source": []
  }
 ],
 "metadata": {
  "kernelspec": {
   "display_name": "Python 3 (ipykernel)",
   "language": "python",
   "name": "python3"
  },
  "language_info": {
   "codemirror_mode": {
    "name": "ipython",
    "version": 3
   },
   "file_extension": ".py",
   "mimetype": "text/x-python",
   "name": "python",
   "nbconvert_exporter": "python",
   "pygments_lexer": "ipython3",
   "version": "3.9.13"
  }
 },
 "nbformat": 4,
 "nbformat_minor": 5
}
